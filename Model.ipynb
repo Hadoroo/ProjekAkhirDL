{
 "cells": [
  {
   "cell_type": "markdown",
   "metadata": {},
   "source": [
    "# Import Data"
   ]
  },
  {
   "cell_type": "code",
   "execution_count": null,
   "metadata": {},
   "outputs": [],
   "source": [
    "import pandas as pd\n",
    "import numpy as np\n",
    "import zipfile\n",
    "import matplotlib.pyplot as plt\n",
    "import seaborn as sns\n",
    "import math\n",
    "\n",
    "from pytorch_tabnet.tab_model import TabNetClassifier\n",
    "import torch\n",
    "import torch.nn as nn\n",
    "import torch.optim as optimr\n",
    "\n",
    "from sklearn.preprocessing import LabelEncoder\n",
    "from sklearn.preprocessing import MinMaxScaler\n",
    "from sklearn.preprocessing import StandardScaler\n",
    "\n",
    "from sklearn.model_selection import train_test_split\n",
    "from sklearn.metrics import accuracy_score\n",
    "\n",
    "from imblearn.over_sampling import SMOTE"
   ]
  },
  {
   "cell_type": "code",
   "execution_count": 2,
   "metadata": {},
   "outputs": [
    {
     "name": "stderr",
     "output_type": "stream",
     "text": [
      "<>:1: SyntaxWarning: invalid escape sequence '\\C'\n",
      "<>:1: SyntaxWarning: invalid escape sequence '\\C'\n",
      "C:\\Users\\hadik\\AppData\\Local\\Temp\\ipykernel_12460\\798606535.py:1: SyntaxWarning: invalid escape sequence '\\C'\n",
      "  zip_path = \"E:\\Coding\\sem5\\DL\\ProjekAkhirDL\\ALLFLOWMETER_HIKARI2021.zip\"\n"
     ]
    }
   ],
   "source": [
    "zip_path = \"E:\\Coding\\sem5\\DL\\ProjekAkhirDL\\ALLFLOWMETER_HIKARI2021.zip\"\n",
    "\n",
    "with zipfile.ZipFile(zip_path, 'r') as zipped_file:\n",
    "    csv_file_name = zipped_file.namelist()[0]\n",
    "\n",
    "    with zipped_file.open(csv_file_name) as csv_file:\n",
    "        df = pd.read_csv(csv_file)"
   ]
  },
  {
   "cell_type": "code",
   "execution_count": 3,
   "metadata": {},
   "outputs": [
    {
     "data": {
      "text/html": [
       "<div>\n",
       "<style scoped>\n",
       "    .dataframe tbody tr th:only-of-type {\n",
       "        vertical-align: middle;\n",
       "    }\n",
       "\n",
       "    .dataframe tbody tr th {\n",
       "        vertical-align: top;\n",
       "    }\n",
       "\n",
       "    .dataframe thead th {\n",
       "        text-align: right;\n",
       "    }\n",
       "</style>\n",
       "<table border=\"1\" class=\"dataframe\">\n",
       "  <thead>\n",
       "    <tr style=\"text-align: right;\">\n",
       "      <th></th>\n",
       "      <th>Unnamed: 0.1</th>\n",
       "      <th>Unnamed: 0</th>\n",
       "      <th>uid</th>\n",
       "      <th>originh</th>\n",
       "      <th>originp</th>\n",
       "      <th>responh</th>\n",
       "      <th>responp</th>\n",
       "      <th>flow_duration</th>\n",
       "      <th>fwd_pkts_tot</th>\n",
       "      <th>bwd_pkts_tot</th>\n",
       "      <th>...</th>\n",
       "      <th>idle.min</th>\n",
       "      <th>idle.max</th>\n",
       "      <th>idle.tot</th>\n",
       "      <th>idle.avg</th>\n",
       "      <th>idle.std</th>\n",
       "      <th>fwd_init_window_size</th>\n",
       "      <th>bwd_init_window_size</th>\n",
       "      <th>fwd_last_window_size</th>\n",
       "      <th>traffic_category</th>\n",
       "      <th>Label</th>\n",
       "    </tr>\n",
       "  </thead>\n",
       "  <tbody>\n",
       "    <tr>\n",
       "      <th>0</th>\n",
       "      <td>0</td>\n",
       "      <td>0</td>\n",
       "      <td>Cg61Jch3vdz9DBptj</td>\n",
       "      <td>103.255.15.23</td>\n",
       "      <td>13316</td>\n",
       "      <td>128.199.242.104</td>\n",
       "      <td>443</td>\n",
       "      <td>2.207588</td>\n",
       "      <td>15</td>\n",
       "      <td>14</td>\n",
       "      <td>...</td>\n",
       "      <td>0.000000e+00</td>\n",
       "      <td>0.000000e+00</td>\n",
       "      <td>0.000000e+00</td>\n",
       "      <td>0.000000e+00</td>\n",
       "      <td>0.0</td>\n",
       "      <td>29200</td>\n",
       "      <td>65160</td>\n",
       "      <td>0</td>\n",
       "      <td>Bruteforce-XML</td>\n",
       "      <td>1</td>\n",
       "    </tr>\n",
       "    <tr>\n",
       "      <th>1</th>\n",
       "      <td>1</td>\n",
       "      <td>1</td>\n",
       "      <td>CdRIlqLWdj35Y9vW9</td>\n",
       "      <td>103.255.15.23</td>\n",
       "      <td>13318</td>\n",
       "      <td>128.199.242.104</td>\n",
       "      <td>443</td>\n",
       "      <td>15.624266</td>\n",
       "      <td>15</td>\n",
       "      <td>14</td>\n",
       "      <td>...</td>\n",
       "      <td>1.534300e+07</td>\n",
       "      <td>1.534300e+07</td>\n",
       "      <td>1.534300e+07</td>\n",
       "      <td>1.534300e+07</td>\n",
       "      <td>0.0</td>\n",
       "      <td>29200</td>\n",
       "      <td>65160</td>\n",
       "      <td>0</td>\n",
       "      <td>Bruteforce-XML</td>\n",
       "      <td>1</td>\n",
       "    </tr>\n",
       "    <tr>\n",
       "      <th>2</th>\n",
       "      <td>2</td>\n",
       "      <td>2</td>\n",
       "      <td>CLzp9Khd0Y09Qkgrg</td>\n",
       "      <td>103.255.15.23</td>\n",
       "      <td>13320</td>\n",
       "      <td>128.199.242.104</td>\n",
       "      <td>443</td>\n",
       "      <td>12.203357</td>\n",
       "      <td>14</td>\n",
       "      <td>13</td>\n",
       "      <td>...</td>\n",
       "      <td>1.196814e+07</td>\n",
       "      <td>1.196814e+07</td>\n",
       "      <td>1.196814e+07</td>\n",
       "      <td>1.196814e+07</td>\n",
       "      <td>0.0</td>\n",
       "      <td>29200</td>\n",
       "      <td>65160</td>\n",
       "      <td>0</td>\n",
       "      <td>Bruteforce-XML</td>\n",
       "      <td>1</td>\n",
       "    </tr>\n",
       "    <tr>\n",
       "      <th>3</th>\n",
       "      <td>3</td>\n",
       "      <td>3</td>\n",
       "      <td>Cnf1YA4iLB4CSNWB88</td>\n",
       "      <td>103.255.15.23</td>\n",
       "      <td>13322</td>\n",
       "      <td>128.199.242.104</td>\n",
       "      <td>443</td>\n",
       "      <td>9.992448</td>\n",
       "      <td>14</td>\n",
       "      <td>13</td>\n",
       "      <td>...</td>\n",
       "      <td>9.759205e+06</td>\n",
       "      <td>9.759205e+06</td>\n",
       "      <td>9.759205e+06</td>\n",
       "      <td>9.759205e+06</td>\n",
       "      <td>0.0</td>\n",
       "      <td>29200</td>\n",
       "      <td>65160</td>\n",
       "      <td>0</td>\n",
       "      <td>Bruteforce-XML</td>\n",
       "      <td>1</td>\n",
       "    </tr>\n",
       "    <tr>\n",
       "      <th>4</th>\n",
       "      <td>4</td>\n",
       "      <td>4</td>\n",
       "      <td>C4ZKvv3fpO72EAOsJ6</td>\n",
       "      <td>103.255.15.23</td>\n",
       "      <td>13324</td>\n",
       "      <td>128.199.242.104</td>\n",
       "      <td>443</td>\n",
       "      <td>7.780611</td>\n",
       "      <td>14</td>\n",
       "      <td>14</td>\n",
       "      <td>...</td>\n",
       "      <td>7.545305e+06</td>\n",
       "      <td>7.545305e+06</td>\n",
       "      <td>7.545305e+06</td>\n",
       "      <td>7.545305e+06</td>\n",
       "      <td>0.0</td>\n",
       "      <td>29200</td>\n",
       "      <td>65160</td>\n",
       "      <td>0</td>\n",
       "      <td>Bruteforce-XML</td>\n",
       "      <td>1</td>\n",
       "    </tr>\n",
       "  </tbody>\n",
       "</table>\n",
       "<p>5 rows × 88 columns</p>\n",
       "</div>"
      ],
      "text/plain": [
       "   Unnamed: 0.1  Unnamed: 0                 uid        originh  originp  \\\n",
       "0             0           0   Cg61Jch3vdz9DBptj  103.255.15.23    13316   \n",
       "1             1           1   CdRIlqLWdj35Y9vW9  103.255.15.23    13318   \n",
       "2             2           2   CLzp9Khd0Y09Qkgrg  103.255.15.23    13320   \n",
       "3             3           3  Cnf1YA4iLB4CSNWB88  103.255.15.23    13322   \n",
       "4             4           4  C4ZKvv3fpO72EAOsJ6  103.255.15.23    13324   \n",
       "\n",
       "           responh  responp  flow_duration  fwd_pkts_tot  bwd_pkts_tot  ...  \\\n",
       "0  128.199.242.104      443       2.207588            15            14  ...   \n",
       "1  128.199.242.104      443      15.624266            15            14  ...   \n",
       "2  128.199.242.104      443      12.203357            14            13  ...   \n",
       "3  128.199.242.104      443       9.992448            14            13  ...   \n",
       "4  128.199.242.104      443       7.780611            14            14  ...   \n",
       "\n",
       "       idle.min      idle.max      idle.tot      idle.avg  idle.std  \\\n",
       "0  0.000000e+00  0.000000e+00  0.000000e+00  0.000000e+00       0.0   \n",
       "1  1.534300e+07  1.534300e+07  1.534300e+07  1.534300e+07       0.0   \n",
       "2  1.196814e+07  1.196814e+07  1.196814e+07  1.196814e+07       0.0   \n",
       "3  9.759205e+06  9.759205e+06  9.759205e+06  9.759205e+06       0.0   \n",
       "4  7.545305e+06  7.545305e+06  7.545305e+06  7.545305e+06       0.0   \n",
       "\n",
       "   fwd_init_window_size  bwd_init_window_size  fwd_last_window_size  \\\n",
       "0                 29200                 65160                     0   \n",
       "1                 29200                 65160                     0   \n",
       "2                 29200                 65160                     0   \n",
       "3                 29200                 65160                     0   \n",
       "4                 29200                 65160                     0   \n",
       "\n",
       "   traffic_category  Label  \n",
       "0    Bruteforce-XML      1  \n",
       "1    Bruteforce-XML      1  \n",
       "2    Bruteforce-XML      1  \n",
       "3    Bruteforce-XML      1  \n",
       "4    Bruteforce-XML      1  \n",
       "\n",
       "[5 rows x 88 columns]"
      ]
     },
     "execution_count": 3,
     "metadata": {},
     "output_type": "execute_result"
    }
   ],
   "source": [
    "df.head()"
   ]
  },
  {
   "cell_type": "code",
   "execution_count": 4,
   "metadata": {},
   "outputs": [],
   "source": [
    "df = df.drop(labels='Label', axis=1)"
   ]
  },
  {
   "cell_type": "markdown",
   "metadata": {},
   "source": [
    "# Data Preprocessing"
   ]
  },
  {
   "cell_type": "markdown",
   "metadata": {},
   "source": [
    "## Label Encoding"
   ]
  },
  {
   "cell_type": "code",
   "execution_count": 5,
   "metadata": {},
   "outputs": [],
   "source": [
    "encoder = LabelEncoder()\n",
    "\n",
    "def LabelEncoding(df):\n",
    "    object_features = df.select_dtypes(include=['object'])\n",
    "    for col in object_features:\n",
    "        df[col] = encoder.fit_transform(df[col])\n",
    "    return df"
   ]
  },
  {
   "cell_type": "markdown",
   "metadata": {},
   "source": [
    "## Z-Score Standarization"
   ]
  },
  {
   "cell_type": "code",
   "execution_count": 6,
   "metadata": {},
   "outputs": [],
   "source": [
    "zscore = StandardScaler()\n",
    "\n",
    "def Standarization(df):\n",
    "    df_zscore = zscore.fit_transform(df)\n",
    "    df = pd.DataFrame(df_zscore, columns=df.columns)\n",
    "    return df"
   ]
  },
  {
   "cell_type": "markdown",
   "metadata": {},
   "source": [
    "## MinMax Normalization"
   ]
  },
  {
   "cell_type": "code",
   "execution_count": 7,
   "metadata": {},
   "outputs": [],
   "source": [
    "minmax = MinMaxScaler()\n",
    "\n",
    "def Normalization(df):\n",
    "    df_scaled = minmax.fit_transform(df)\n",
    "    df = pd.DataFrame(df_scaled, columns=df.columns)\n",
    "    return df"
   ]
  },
  {
   "cell_type": "markdown",
   "metadata": {},
   "source": [
    "## Execute Preprocessing"
   ]
  },
  {
   "cell_type": "code",
   "execution_count": 8,
   "metadata": {},
   "outputs": [],
   "source": [
    "def Preprocessing(df):\n",
    "    df = LabelEncoding(df)\n",
    "    df = Standarization(df)\n",
    "    df = Normalization(df)\n",
    "    return df"
   ]
  },
  {
   "cell_type": "code",
   "execution_count": 9,
   "metadata": {},
   "outputs": [],
   "source": [
    "df_preprocessed = df.copy()\n",
    "df_preprocessed = Preprocessing(df)"
   ]
  },
  {
   "cell_type": "markdown",
   "metadata": {},
   "source": [
    "# Model"
   ]
  },
  {
   "cell_type": "code",
   "execution_count": null,
   "metadata": {},
   "outputs": [],
   "source": []
  }
 ],
 "metadata": {
  "kernelspec": {
   "display_name": "Python 3",
   "language": "python",
   "name": "python3"
  },
  "language_info": {
   "codemirror_mode": {
    "name": "ipython",
    "version": 3
   },
   "file_extension": ".py",
   "mimetype": "text/x-python",
   "name": "python",
   "nbconvert_exporter": "python",
   "pygments_lexer": "ipython3",
   "version": "3.12.5"
  }
 },
 "nbformat": 4,
 "nbformat_minor": 2
}
