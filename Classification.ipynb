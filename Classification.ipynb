{
 "cells": [
  {
   "cell_type": "markdown",
   "metadata": {},
   "source": [
    "# Import Data"
   ]
  },
  {
   "cell_type": "code",
   "execution_count": 1,
   "metadata": {},
   "outputs": [],
   "source": [
    "import pandas as pd\n",
    "import numpy as np\n",
    "import zipfile\n",
    "import matplotlib.pyplot as plt\n",
    "import seaborn as sns\n",
    "import math\n",
    "\n",
    "import torch\n",
    "import torch.nn as nn\n",
    "import torch.optim as optimr\n",
    "\n",
    "from sklearn.preprocessing import LabelEncoder\n",
    "from sklearn.preprocessing import MinMaxScaler\n",
    "from sklearn.preprocessing import StandardScaler\n",
    "\n",
    "from sklearn.model_selection import train_test_split\n",
    "from sklearn.metrics import accuracy_score\n",
    "\n",
    "from imblearn.over_sampling import SMOTE"
   ]
  },
  {
   "cell_type": "code",
   "execution_count": 2,
   "metadata": {},
   "outputs": [],
   "source": [
    "zip_path = \"ALLFLOWMETER_HIKARI2021.zip\"\n",
    "\n",
    "with zipfile.ZipFile(zip_path, 'r') as zipped_file:\n",
    "    csv_file_name = zipped_file.namelist()[0]\n",
    "\n",
    "    with zipped_file.open(csv_file_name) as csv_file:\n",
    "        df = pd.read_csv(csv_file)"
   ]
  },
  {
   "cell_type": "code",
   "execution_count": 3,
   "metadata": {},
   "outputs": [
    {
     "data": {
      "text/html": [
       "<div>\n",
       "<style scoped>\n",
       "    .dataframe tbody tr th:only-of-type {\n",
       "        vertical-align: middle;\n",
       "    }\n",
       "\n",
       "    .dataframe tbody tr th {\n",
       "        vertical-align: top;\n",
       "    }\n",
       "\n",
       "    .dataframe thead th {\n",
       "        text-align: right;\n",
       "    }\n",
       "</style>\n",
       "<table border=\"1\" class=\"dataframe\">\n",
       "  <thead>\n",
       "    <tr style=\"text-align: right;\">\n",
       "      <th></th>\n",
       "      <th>Unnamed: 0.1</th>\n",
       "      <th>Unnamed: 0</th>\n",
       "      <th>uid</th>\n",
       "      <th>originh</th>\n",
       "      <th>originp</th>\n",
       "      <th>responh</th>\n",
       "      <th>responp</th>\n",
       "      <th>flow_duration</th>\n",
       "      <th>fwd_pkts_tot</th>\n",
       "      <th>bwd_pkts_tot</th>\n",
       "      <th>...</th>\n",
       "      <th>idle.min</th>\n",
       "      <th>idle.max</th>\n",
       "      <th>idle.tot</th>\n",
       "      <th>idle.avg</th>\n",
       "      <th>idle.std</th>\n",
       "      <th>fwd_init_window_size</th>\n",
       "      <th>bwd_init_window_size</th>\n",
       "      <th>fwd_last_window_size</th>\n",
       "      <th>traffic_category</th>\n",
       "      <th>Label</th>\n",
       "    </tr>\n",
       "  </thead>\n",
       "  <tbody>\n",
       "    <tr>\n",
       "      <th>0</th>\n",
       "      <td>0</td>\n",
       "      <td>0</td>\n",
       "      <td>Cg61Jch3vdz9DBptj</td>\n",
       "      <td>103.255.15.23</td>\n",
       "      <td>13316</td>\n",
       "      <td>128.199.242.104</td>\n",
       "      <td>443</td>\n",
       "      <td>2.207588</td>\n",
       "      <td>15</td>\n",
       "      <td>14</td>\n",
       "      <td>...</td>\n",
       "      <td>0.000000e+00</td>\n",
       "      <td>0.000000e+00</td>\n",
       "      <td>0.000000e+00</td>\n",
       "      <td>0.000000e+00</td>\n",
       "      <td>0.0</td>\n",
       "      <td>29200</td>\n",
       "      <td>65160</td>\n",
       "      <td>0</td>\n",
       "      <td>Bruteforce-XML</td>\n",
       "      <td>1</td>\n",
       "    </tr>\n",
       "    <tr>\n",
       "      <th>1</th>\n",
       "      <td>1</td>\n",
       "      <td>1</td>\n",
       "      <td>CdRIlqLWdj35Y9vW9</td>\n",
       "      <td>103.255.15.23</td>\n",
       "      <td>13318</td>\n",
       "      <td>128.199.242.104</td>\n",
       "      <td>443</td>\n",
       "      <td>15.624266</td>\n",
       "      <td>15</td>\n",
       "      <td>14</td>\n",
       "      <td>...</td>\n",
       "      <td>1.534300e+07</td>\n",
       "      <td>1.534300e+07</td>\n",
       "      <td>1.534300e+07</td>\n",
       "      <td>1.534300e+07</td>\n",
       "      <td>0.0</td>\n",
       "      <td>29200</td>\n",
       "      <td>65160</td>\n",
       "      <td>0</td>\n",
       "      <td>Bruteforce-XML</td>\n",
       "      <td>1</td>\n",
       "    </tr>\n",
       "    <tr>\n",
       "      <th>2</th>\n",
       "      <td>2</td>\n",
       "      <td>2</td>\n",
       "      <td>CLzp9Khd0Y09Qkgrg</td>\n",
       "      <td>103.255.15.23</td>\n",
       "      <td>13320</td>\n",
       "      <td>128.199.242.104</td>\n",
       "      <td>443</td>\n",
       "      <td>12.203357</td>\n",
       "      <td>14</td>\n",
       "      <td>13</td>\n",
       "      <td>...</td>\n",
       "      <td>1.196814e+07</td>\n",
       "      <td>1.196814e+07</td>\n",
       "      <td>1.196814e+07</td>\n",
       "      <td>1.196814e+07</td>\n",
       "      <td>0.0</td>\n",
       "      <td>29200</td>\n",
       "      <td>65160</td>\n",
       "      <td>0</td>\n",
       "      <td>Bruteforce-XML</td>\n",
       "      <td>1</td>\n",
       "    </tr>\n",
       "    <tr>\n",
       "      <th>3</th>\n",
       "      <td>3</td>\n",
       "      <td>3</td>\n",
       "      <td>Cnf1YA4iLB4CSNWB88</td>\n",
       "      <td>103.255.15.23</td>\n",
       "      <td>13322</td>\n",
       "      <td>128.199.242.104</td>\n",
       "      <td>443</td>\n",
       "      <td>9.992448</td>\n",
       "      <td>14</td>\n",
       "      <td>13</td>\n",
       "      <td>...</td>\n",
       "      <td>9.759205e+06</td>\n",
       "      <td>9.759205e+06</td>\n",
       "      <td>9.759205e+06</td>\n",
       "      <td>9.759205e+06</td>\n",
       "      <td>0.0</td>\n",
       "      <td>29200</td>\n",
       "      <td>65160</td>\n",
       "      <td>0</td>\n",
       "      <td>Bruteforce-XML</td>\n",
       "      <td>1</td>\n",
       "    </tr>\n",
       "    <tr>\n",
       "      <th>4</th>\n",
       "      <td>4</td>\n",
       "      <td>4</td>\n",
       "      <td>C4ZKvv3fpO72EAOsJ6</td>\n",
       "      <td>103.255.15.23</td>\n",
       "      <td>13324</td>\n",
       "      <td>128.199.242.104</td>\n",
       "      <td>443</td>\n",
       "      <td>7.780611</td>\n",
       "      <td>14</td>\n",
       "      <td>14</td>\n",
       "      <td>...</td>\n",
       "      <td>7.545305e+06</td>\n",
       "      <td>7.545305e+06</td>\n",
       "      <td>7.545305e+06</td>\n",
       "      <td>7.545305e+06</td>\n",
       "      <td>0.0</td>\n",
       "      <td>29200</td>\n",
       "      <td>65160</td>\n",
       "      <td>0</td>\n",
       "      <td>Bruteforce-XML</td>\n",
       "      <td>1</td>\n",
       "    </tr>\n",
       "  </tbody>\n",
       "</table>\n",
       "<p>5 rows × 88 columns</p>\n",
       "</div>"
      ],
      "text/plain": [
       "   Unnamed: 0.1  Unnamed: 0                 uid        originh  originp  \\\n",
       "0             0           0   Cg61Jch3vdz9DBptj  103.255.15.23    13316   \n",
       "1             1           1   CdRIlqLWdj35Y9vW9  103.255.15.23    13318   \n",
       "2             2           2   CLzp9Khd0Y09Qkgrg  103.255.15.23    13320   \n",
       "3             3           3  Cnf1YA4iLB4CSNWB88  103.255.15.23    13322   \n",
       "4             4           4  C4ZKvv3fpO72EAOsJ6  103.255.15.23    13324   \n",
       "\n",
       "           responh  responp  flow_duration  fwd_pkts_tot  bwd_pkts_tot  ...  \\\n",
       "0  128.199.242.104      443       2.207588            15            14  ...   \n",
       "1  128.199.242.104      443      15.624266            15            14  ...   \n",
       "2  128.199.242.104      443      12.203357            14            13  ...   \n",
       "3  128.199.242.104      443       9.992448            14            13  ...   \n",
       "4  128.199.242.104      443       7.780611            14            14  ...   \n",
       "\n",
       "       idle.min      idle.max      idle.tot      idle.avg  idle.std  \\\n",
       "0  0.000000e+00  0.000000e+00  0.000000e+00  0.000000e+00       0.0   \n",
       "1  1.534300e+07  1.534300e+07  1.534300e+07  1.534300e+07       0.0   \n",
       "2  1.196814e+07  1.196814e+07  1.196814e+07  1.196814e+07       0.0   \n",
       "3  9.759205e+06  9.759205e+06  9.759205e+06  9.759205e+06       0.0   \n",
       "4  7.545305e+06  7.545305e+06  7.545305e+06  7.545305e+06       0.0   \n",
       "\n",
       "   fwd_init_window_size  bwd_init_window_size  fwd_last_window_size  \\\n",
       "0                 29200                 65160                     0   \n",
       "1                 29200                 65160                     0   \n",
       "2                 29200                 65160                     0   \n",
       "3                 29200                 65160                     0   \n",
       "4                 29200                 65160                     0   \n",
       "\n",
       "   traffic_category  Label  \n",
       "0    Bruteforce-XML      1  \n",
       "1    Bruteforce-XML      1  \n",
       "2    Bruteforce-XML      1  \n",
       "3    Bruteforce-XML      1  \n",
       "4    Bruteforce-XML      1  \n",
       "\n",
       "[5 rows x 88 columns]"
      ]
     },
     "execution_count": 3,
     "metadata": {},
     "output_type": "execute_result"
    }
   ],
   "source": [
    "df.head()"
   ]
  },
  {
   "cell_type": "markdown",
   "metadata": {},
   "source": [
    "# Data Preprocessing"
   ]
  },
  {
   "cell_type": "markdown",
   "metadata": {},
   "source": [
    "## Feature Selection"
   ]
  },
  {
   "cell_type": "code",
   "execution_count": 4,
   "metadata": {},
   "outputs": [
    {
     "data": {
      "text/html": [
       "<div>\n",
       "<style scoped>\n",
       "    .dataframe tbody tr th:only-of-type {\n",
       "        vertical-align: middle;\n",
       "    }\n",
       "\n",
       "    .dataframe tbody tr th {\n",
       "        vertical-align: top;\n",
       "    }\n",
       "\n",
       "    .dataframe thead th {\n",
       "        text-align: right;\n",
       "    }\n",
       "</style>\n",
       "<table border=\"1\" class=\"dataframe\">\n",
       "  <thead>\n",
       "    <tr style=\"text-align: right;\">\n",
       "      <th></th>\n",
       "      <th>originh</th>\n",
       "      <th>originp</th>\n",
       "      <th>responh</th>\n",
       "      <th>responp</th>\n",
       "      <th>flow_duration</th>\n",
       "      <th>fwd_pkts_tot</th>\n",
       "      <th>bwd_pkts_tot</th>\n",
       "      <th>fwd_data_pkts_tot</th>\n",
       "      <th>bwd_data_pkts_tot</th>\n",
       "      <th>fwd_pkts_per_sec</th>\n",
       "      <th>...</th>\n",
       "      <th>active.std</th>\n",
       "      <th>idle.min</th>\n",
       "      <th>idle.max</th>\n",
       "      <th>idle.tot</th>\n",
       "      <th>idle.avg</th>\n",
       "      <th>idle.std</th>\n",
       "      <th>fwd_init_window_size</th>\n",
       "      <th>bwd_init_window_size</th>\n",
       "      <th>fwd_last_window_size</th>\n",
       "      <th>traffic_category</th>\n",
       "    </tr>\n",
       "  </thead>\n",
       "  <tbody>\n",
       "    <tr>\n",
       "      <th>0</th>\n",
       "      <td>103.255.15.23</td>\n",
       "      <td>13316</td>\n",
       "      <td>128.199.242.104</td>\n",
       "      <td>443</td>\n",
       "      <td>2.207588</td>\n",
       "      <td>15</td>\n",
       "      <td>14</td>\n",
       "      <td>6</td>\n",
       "      <td>6</td>\n",
       "      <td>6.794746</td>\n",
       "      <td>...</td>\n",
       "      <td>0.000000</td>\n",
       "      <td>0.000000e+00</td>\n",
       "      <td>0.000000e+00</td>\n",
       "      <td>0.000000e+00</td>\n",
       "      <td>0.000000e+00</td>\n",
       "      <td>0.0</td>\n",
       "      <td>29200</td>\n",
       "      <td>65160</td>\n",
       "      <td>0</td>\n",
       "      <td>Bruteforce-XML</td>\n",
       "    </tr>\n",
       "    <tr>\n",
       "      <th>1</th>\n",
       "      <td>103.255.15.23</td>\n",
       "      <td>13318</td>\n",
       "      <td>128.199.242.104</td>\n",
       "      <td>443</td>\n",
       "      <td>15.624266</td>\n",
       "      <td>15</td>\n",
       "      <td>14</td>\n",
       "      <td>6</td>\n",
       "      <td>6</td>\n",
       "      <td>0.960045</td>\n",
       "      <td>...</td>\n",
       "      <td>158109.181742</td>\n",
       "      <td>1.534300e+07</td>\n",
       "      <td>1.534300e+07</td>\n",
       "      <td>1.534300e+07</td>\n",
       "      <td>1.534300e+07</td>\n",
       "      <td>0.0</td>\n",
       "      <td>29200</td>\n",
       "      <td>65160</td>\n",
       "      <td>0</td>\n",
       "      <td>Bruteforce-XML</td>\n",
       "    </tr>\n",
       "    <tr>\n",
       "      <th>2</th>\n",
       "      <td>103.255.15.23</td>\n",
       "      <td>13320</td>\n",
       "      <td>128.199.242.104</td>\n",
       "      <td>443</td>\n",
       "      <td>12.203357</td>\n",
       "      <td>14</td>\n",
       "      <td>13</td>\n",
       "      <td>6</td>\n",
       "      <td>5</td>\n",
       "      <td>1.147225</td>\n",
       "      <td>...</td>\n",
       "      <td>125449.251656</td>\n",
       "      <td>1.196814e+07</td>\n",
       "      <td>1.196814e+07</td>\n",
       "      <td>1.196814e+07</td>\n",
       "      <td>1.196814e+07</td>\n",
       "      <td>0.0</td>\n",
       "      <td>29200</td>\n",
       "      <td>65160</td>\n",
       "      <td>0</td>\n",
       "      <td>Bruteforce-XML</td>\n",
       "    </tr>\n",
       "    <tr>\n",
       "      <th>3</th>\n",
       "      <td>103.255.15.23</td>\n",
       "      <td>13322</td>\n",
       "      <td>128.199.242.104</td>\n",
       "      <td>443</td>\n",
       "      <td>9.992448</td>\n",
       "      <td>14</td>\n",
       "      <td>13</td>\n",
       "      <td>6</td>\n",
       "      <td>5</td>\n",
       "      <td>1.401058</td>\n",
       "      <td>...</td>\n",
       "      <td>123182.931318</td>\n",
       "      <td>9.759205e+06</td>\n",
       "      <td>9.759205e+06</td>\n",
       "      <td>9.759205e+06</td>\n",
       "      <td>9.759205e+06</td>\n",
       "      <td>0.0</td>\n",
       "      <td>29200</td>\n",
       "      <td>65160</td>\n",
       "      <td>0</td>\n",
       "      <td>Bruteforce-XML</td>\n",
       "    </tr>\n",
       "    <tr>\n",
       "      <th>4</th>\n",
       "      <td>103.255.15.23</td>\n",
       "      <td>13324</td>\n",
       "      <td>128.199.242.104</td>\n",
       "      <td>443</td>\n",
       "      <td>7.780611</td>\n",
       "      <td>14</td>\n",
       "      <td>14</td>\n",
       "      <td>6</td>\n",
       "      <td>5</td>\n",
       "      <td>1.799345</td>\n",
       "      <td>...</td>\n",
       "      <td>126016.885411</td>\n",
       "      <td>7.545305e+06</td>\n",
       "      <td>7.545305e+06</td>\n",
       "      <td>7.545305e+06</td>\n",
       "      <td>7.545305e+06</td>\n",
       "      <td>0.0</td>\n",
       "      <td>29200</td>\n",
       "      <td>65160</td>\n",
       "      <td>0</td>\n",
       "      <td>Bruteforce-XML</td>\n",
       "    </tr>\n",
       "  </tbody>\n",
       "</table>\n",
       "<p>5 rows × 84 columns</p>\n",
       "</div>"
      ],
      "text/plain": [
       "         originh  originp          responh  responp  flow_duration  \\\n",
       "0  103.255.15.23    13316  128.199.242.104      443       2.207588   \n",
       "1  103.255.15.23    13318  128.199.242.104      443      15.624266   \n",
       "2  103.255.15.23    13320  128.199.242.104      443      12.203357   \n",
       "3  103.255.15.23    13322  128.199.242.104      443       9.992448   \n",
       "4  103.255.15.23    13324  128.199.242.104      443       7.780611   \n",
       "\n",
       "   fwd_pkts_tot  bwd_pkts_tot  fwd_data_pkts_tot  bwd_data_pkts_tot  \\\n",
       "0            15            14                  6                  6   \n",
       "1            15            14                  6                  6   \n",
       "2            14            13                  6                  5   \n",
       "3            14            13                  6                  5   \n",
       "4            14            14                  6                  5   \n",
       "\n",
       "   fwd_pkts_per_sec  ...     active.std      idle.min      idle.max  \\\n",
       "0          6.794746  ...       0.000000  0.000000e+00  0.000000e+00   \n",
       "1          0.960045  ...  158109.181742  1.534300e+07  1.534300e+07   \n",
       "2          1.147225  ...  125449.251656  1.196814e+07  1.196814e+07   \n",
       "3          1.401058  ...  123182.931318  9.759205e+06  9.759205e+06   \n",
       "4          1.799345  ...  126016.885411  7.545305e+06  7.545305e+06   \n",
       "\n",
       "       idle.tot      idle.avg  idle.std  fwd_init_window_size  \\\n",
       "0  0.000000e+00  0.000000e+00       0.0                 29200   \n",
       "1  1.534300e+07  1.534300e+07       0.0                 29200   \n",
       "2  1.196814e+07  1.196814e+07       0.0                 29200   \n",
       "3  9.759205e+06  9.759205e+06       0.0                 29200   \n",
       "4  7.545305e+06  7.545305e+06       0.0                 29200   \n",
       "\n",
       "   bwd_init_window_size  fwd_last_window_size  traffic_category  \n",
       "0                 65160                     0    Bruteforce-XML  \n",
       "1                 65160                     0    Bruteforce-XML  \n",
       "2                 65160                     0    Bruteforce-XML  \n",
       "3                 65160                     0    Bruteforce-XML  \n",
       "4                 65160                     0    Bruteforce-XML  \n",
       "\n",
       "[5 rows x 84 columns]"
      ]
     },
     "execution_count": 4,
     "metadata": {},
     "output_type": "execute_result"
    }
   ],
   "source": [
    "drop_label = ['Unnamed: 0.1', 'Unnamed: 0', 'uid', 'Label']\n",
    "df = df.drop(labels=drop_label, axis=1)\n",
    "df.head()"
   ]
  },
  {
   "cell_type": "code",
   "execution_count": 5,
   "metadata": {},
   "outputs": [
    {
     "data": {
      "text/plain": [
       "array(['Bruteforce-XML', 'Bruteforce', 'Background', 'Benign', 'Probing',\n",
       "       'XMRIGCC CryptoMiner'], dtype=object)"
      ]
     },
     "execution_count": 5,
     "metadata": {},
     "output_type": "execute_result"
    }
   ],
   "source": [
    "df['traffic_category'].unique()"
   ]
  },
  {
   "cell_type": "code",
   "execution_count": 6,
   "metadata": {},
   "outputs": [],
   "source": [
    "numerical_features = df.select_dtypes(include=[\"float64\", \"int64\"]).columns.tolist()\n",
    "categorical_features = df.select_dtypes(include=[\"object\", \"category\"]).columns.tolist()"
   ]
  },
  {
   "cell_type": "markdown",
   "metadata": {},
   "source": [
    "## Encoding"
   ]
  },
  {
   "cell_type": "markdown",
   "metadata": {},
   "source": [
    "One-hot untuk target, fitur lain menggunakan label encoding"
   ]
  },
  {
   "cell_type": "code",
   "execution_count": 7,
   "metadata": {},
   "outputs": [],
   "source": [
    "encoder_label = LabelEncoder()\n",
    "\n",
    "for col in categorical_features:\n",
    "    df[col] = encoder_label.fit_transform(df[col])\n"
   ]
  },
  {
   "cell_type": "markdown",
   "metadata": {},
   "source": [
    "## Z-Score Standarization"
   ]
  },
  {
   "cell_type": "code",
   "execution_count": 8,
   "metadata": {},
   "outputs": [],
   "source": [
    "zscore = StandardScaler()\n",
    "\n",
    "def Standarization(df):\n",
    "    df_zscore = zscore.fit_transform(df)\n",
    "    df = pd.DataFrame(df_zscore, columns=df.columns)\n",
    "    return df"
   ]
  },
  {
   "cell_type": "markdown",
   "metadata": {},
   "source": [
    "## MinMax Normalization"
   ]
  },
  {
   "cell_type": "code",
   "execution_count": 9,
   "metadata": {},
   "outputs": [],
   "source": [
    "scaler = MinMaxScaler()\n",
    "df[numerical_features] = scaler.fit_transform(df[numerical_features])"
   ]
  },
  {
   "cell_type": "code",
   "execution_count": 10,
   "metadata": {},
   "outputs": [
    {
     "data": {
      "text/plain": [
       "6"
      ]
     },
     "execution_count": 10,
     "metadata": {},
     "output_type": "execute_result"
    }
   ],
   "source": [
    "df['traffic_category'].nunique()\n"
   ]
  },
  {
   "cell_type": "markdown",
   "metadata": {},
   "source": [
    "# Load Generator Model"
   ]
  },
  {
   "cell_type": "code",
   "execution_count": 11,
   "metadata": {},
   "outputs": [],
   "source": [
    "class Generator(nn.Module):\n",
    "    def __init__(self, latent_dim, num_classes, data_dim):\n",
    "        super(Generator, self).__init__()\n",
    "        self.label_embedding = nn.Embedding(num_classes, latent_dim)\n",
    "        self.model = nn.Sequential(\n",
    "            nn.Linear(latent_dim * 2, 128),\n",
    "            nn.ReLU(),\n",
    "            nn.Linear(128, data_dim),\n",
    "            nn.Sigmoid()\n",
    "        )\n",
    "\n",
    "    def forward(self, noise, labels):\n",
    "        label_input = self.label_embedding(labels)\n",
    "        gen_input = torch.cat((noise, label_input), dim=1)\n",
    "        return self.model(gen_input)\n"
   ]
  },
  {
   "cell_type": "code",
   "execution_count": 12,
   "metadata": {},
   "outputs": [],
   "source": [
    "# Pisahkan fitur dan label\n",
    "X = df.drop(columns=['traffic_category'])  # Fitur\n",
    "y = df['traffic_category']  # Label\n",
    "\n",
    "# Konversi DataFrame ke numpy array\n",
    "X = X.to_numpy()\n",
    "y = y.to_numpy()"
   ]
  },
  {
   "cell_type": "code",
   "execution_count": 13,
   "metadata": {},
   "outputs": [
    {
     "name": "stderr",
     "output_type": "stream",
     "text": [
      "C:\\Users\\mradi\\AppData\\Local\\Temp\\ipykernel_12988\\1414559857.py:11: FutureWarning: You are using `torch.load` with `weights_only=False` (the current default value), which uses the default pickle module implicitly. It is possible to construct malicious pickle data which will execute arbitrary code during unpickling (See https://github.com/pytorch/pytorch/blob/main/SECURITY.md#untrusted-models for more details). In a future release, the default value for `weights_only` will be flipped to `True`. This limits the functions that could be executed during unpickling. Arbitrary objects will no longer be allowed to be loaded via this mode unless they are explicitly allowlisted by the user via `torch.serialization.add_safe_globals`. We recommend you start setting `weights_only=True` for any use case where you don't have full control of the loaded file. Please open an issue on GitHub for any issues related to this experimental feature.\n",
      "  generator.load_state_dict(torch.load(\"generator_cgan.pth\", map_location=device))\n"
     ]
    },
    {
     "data": {
      "text/plain": [
       "Generator(\n",
       "  (label_embedding): Embedding(6, 10)\n",
       "  (model): Sequential(\n",
       "    (0): Linear(in_features=20, out_features=128, bias=True)\n",
       "    (1): ReLU()\n",
       "    (2): Linear(in_features=128, out_features=83, bias=True)\n",
       "    (3): Sigmoid()\n",
       "  )\n",
       ")"
      ]
     },
     "execution_count": 13,
     "metadata": {},
     "output_type": "execute_result"
    }
   ],
   "source": [
    "# Parameter untuk generator\n",
    "latent_dim = 10  # Harus sama dengan yang digunakan saat training\n",
    "num_classes = 6  # Jumlah kelas (sesuai dengan data Anda)\n",
    "data_dim = X.shape[1]  # Dimensi data fitur\n",
    "device = torch.device(\"cuda\" if torch.cuda.is_available() else \"cpu\")\n",
    "\n",
    "# Inisialisasi model generator\n",
    "generator = Generator(latent_dim, num_classes, data_dim).to(device)\n",
    "\n",
    "# Muat bobot model\n",
    "generator.load_state_dict(torch.load(\"generator_cgan.pth\", map_location=device))\n",
    "generator.eval()  # Mode evaluasi\n"
   ]
  },
  {
   "cell_type": "code",
   "execution_count": 14,
   "metadata": {},
   "outputs": [],
   "source": [
    "def generate_synthetic_data(generator, num_samples, class_label, latent_dim, device):\n",
    "    # Noise random\n",
    "    noise = torch.randn((num_samples, latent_dim), device=device)\n",
    "    # Label dalam format long tensor\n",
    "    labels = torch.tensor([class_label] * num_samples, dtype=torch.long, device=device)\n",
    "    # Generasi data sintetis\n",
    "    synthetic_data = generator(noise, labels).detach().cpu().numpy()\n",
    "    return synthetic_data\n"
   ]
  },
  {
   "cell_type": "code",
   "execution_count": 15,
   "metadata": {},
   "outputs": [],
   "source": [
    "import numpy as np\n",
    "\n",
    "# Hitung jumlah data untuk kelas mayoritas\n",
    "major_class_count = max(np.bincount(y))\n",
    "\n",
    "X_synthetic = []\n",
    "y_synthetic = []\n",
    "\n",
    "for class_label in np.unique(y):\n",
    "    current_class_count = (y == class_label).sum()\n",
    "    num_samples_needed = major_class_count - current_class_count\n",
    "\n",
    "    if num_samples_needed > 0:\n",
    "        synthetic_data = generate_synthetic_data(generator, num_samples_needed, class_label, latent_dim, device)\n",
    "        X_synthetic.append(synthetic_data)\n",
    "        y_synthetic.append(np.full(num_samples_needed, class_label))\n",
    "\n",
    "X_synthetic = np.vstack(X_synthetic)\n",
    "y_synthetic = np.concatenate(y_synthetic)\n",
    "\n",
    "# Gabungkan data asli dan sintetis\n",
    "X_balanced = np.vstack([X, X_synthetic])\n",
    "y_balanced = np.concatenate([y, y_synthetic])\n"
   ]
  },
  {
   "cell_type": "code",
   "execution_count": 16,
   "metadata": {},
   "outputs": [
    {
     "data": {
      "image/png": "[encoded data removed]",
      "text/plain": [
       "<Figure size 800x500 with 1 Axes>"
      ]
     },
     "metadata": {},
     "output_type": "display_data"
    }
   ],
   "source": [
    "# Plot distribusi\n",
    "plt.figure(figsize=(8, 5))\n",
    "unique, counts = np.unique(y_balanced, return_counts=True)\n",
    "plt.bar(unique, counts, color='skyblue')\n",
    "plt.title(\"Distribusi Label Setelah Oversampling\", fontsize=16)\n",
    "plt.xlabel(\"Kelas\", fontsize=12)\n",
    "plt.ylabel(\"Jumlah Sampel\", fontsize=12)\n",
    "plt.xticks(unique)\n",
    "plt.grid(axis='y', linestyle='--', alpha=0.7)\n",
    "plt.show()"
   ]
  },
  {
   "cell_type": "code",
   "execution_count": null,
   "metadata": {},
   "outputs": [],
   "source": [
    "from sklearn.model_selection import train_test_split\n",
    "from sklearn.ensemble import RandomForestClassifier\n",
    "from sklearn.metrics import classification_report, accuracy_score\n",
    "\n",
    "# Split data untuk training dan testing\n",
    "X_train, X_test, y_train, y_test = train_test_split(X_balanced, y_balanced, test_size=0.2, random_state=42, stratify=y_balanced)\n",
    "\n",
    "# Inisialisasi RandomForest\n",
    "rf_model = RandomForestClassifier(n_estimators=100, random_state=42)\n",
    "\n",
    "# Training\n",
    "rf_model.fit(X_train, y_train)\n",
    "\n",
    "# Prediksi\n",
    "y_pred = rf_model.predict(X_test)\n",
    "\n",
    "# Evaluasi\n",
    "print(\"Akurasi:\", accuracy_score(y_test, y_pred))\n",
    "print(\"Laporan Klasifikasi:\")\n",
    "print(classification_report(y_test, y_pred))\n"
   ]
  }
 ],
 "metadata": {
  "kernelspec": {
   "display_name": "myenv",
   "language": "python",
   "name": "python3"
  },
  "language_info": {
   "codemirror_mode": {
    "name": "ipython",
    "version": 3
   },
   "file_extension": ".py",
   "mimetype": "text/x-python",
   "name": "python",
   "nbconvert_exporter": "python",
   "pygments_lexer": "ipython3",
   "version": "3.10.16"
  }
 },
 "nbformat": 4,
 "nbformat_minor": 2
}
